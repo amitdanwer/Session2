{
 "cells": [
  {
   "cell_type": "code",
   "execution_count": 4,
   "metadata": {},
   "outputs": [
    {
     "name": "stdout",
     "output_type": "stream",
     "text": [
      "['WE,', 'THE', 'PEOPLE', 'OF', 'INDIA,', 'having', 'solemnly', 'resolved', 'to', 'constitute', 'India', 'into', 'a', 'SOVEREIGN,', 'SOCIALIST,', 'SECULAR,', 'DEMOCRATIC', 'REPUBLIC', 'and', 'to', 'secure', 'to', 'all', 'its', 'citizens']\n"
     ]
    }
   ],
   "source": [
    "s='WE, THE PEOPLE OF INDIA, having solemnly resolved to constitute India into a SOVEREIGN, SOCIALIST, SECULAR, DEMOCRATIC REPUBLIC and to secure to all its citizens'\n",
    "print(s.split())"
   ]
  },
  {
   "cell_type": "code",
   "execution_count": 2,
   "metadata": {},
   "outputs": [
    {
     "name": "stdout",
     "output_type": "stream",
     "text": [
      "WE, THE PEOPLE OF INDIA, having solemnly resolved\n",
      "\t\tto constitute India into a SOVEREIGN, SOCIALIST,\n",
      "\t\t\tSECULAR, DEMOCRATIC REPUBLIC and to secure to all\n",
      "\t\t\tits citizens.\n"
     ]
    }
   ],
   "source": [
    "import textwrap\n",
    "\n",
    "sample_text = '''WE, THE PEOPLE OF INDIA, having solemnly resolved to constitute India into a SOVEREIGN, SOCIALIST, SECULAR, DEMOCRATIC REPUBLIC and to secure to all its citizens.'''\n",
    "\n",
    " \n",
    "\n",
    "wrapper = textwrap.TextWrapper(initial_indent='',\n",
    "\n",
    "                    subsequent_indent=' ',\n",
    "\n",
    "                    width=50,\n",
    "\n",
    "                    )\n",
    "\n",
    "x_list =list()\n",
    "\n",
    "count=0\n",
    "\n",
    "for para in sample_text.splitlines():\n",
    "\n",
    "    sample_text1=wrapper.fill(para)\n",
    "\n",
    " \n",
    "\n",
    "#x_list = [y for y in (x.strip() for x in sample_text1.splitlines()) if y]\n",
    "\n",
    "for x in sample_text1.splitlines():\n",
    "\n",
    "    x_list.insert(count,x.strip())\n",
    "\n",
    "    count=count+1\n",
    "\n",
    "    #print(x_List)\n",
    "\n",
    "#print(x_list)\n",
    "\n",
    "print(x_list[0] + \"\\n\" \"\\t\"\"\\t\"+x_list[1]+ \"\\n\" \"\\t\"\"\\t\"\"\\t\"+x_list[2]+ \"\\n\" \"\\t\"\"\\t\"\"\\t\"+x_list[3])"
   ]
  },
  {
   "cell_type": "code",
   "execution_count": null,
   "metadata": {
    "collapsed": true
   },
   "outputs": [],
   "source": []
  }
 ],
 "metadata": {
  "kernelspec": {
   "display_name": "Python 3",
   "language": "python",
   "name": "python3"
  },
  "language_info": {
   "codemirror_mode": {
    "name": "ipython",
    "version": 3
   },
   "file_extension": ".py",
   "mimetype": "text/x-python",
   "name": "python",
   "nbconvert_exporter": "python",
   "pygments_lexer": "ipython3",
   "version": "3.6.4"
  }
 },
 "nbformat": 4,
 "nbformat_minor": 2
}
